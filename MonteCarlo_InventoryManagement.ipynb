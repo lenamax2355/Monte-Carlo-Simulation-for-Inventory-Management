{
 "cells": [
  {
   "cell_type": "code",
   "execution_count": 1,
   "metadata": {},
   "outputs": [],
   "source": [
    "# -*- coding: utf-8 -*-\n",
    "# To support both python 2 and python 3\n",
    "from __future__ import division, print_function, unicode_literals\n",
    "import numpy as np\n",
    "import matplotlib.pyplot as plt\n",
    "from mpl_toolkits.mplot3d import Axes3D"
   ]
  },
  {
   "cell_type": "code",
   "execution_count": 2,
   "metadata": {},
   "outputs": [],
   "source": [
    "# Functions for experiment"
   ]
  },
  {
   "cell_type": "code",
   "execution_count": 3,
   "metadata": {},
   "outputs": [],
   "source": [
    "def get_demand(demand, d=0):\n",
    "    \"returns weekly demand for super apples\"\n",
    "    \n",
    "    # Sample from uniform distribution\n",
    "    rng = np.random.default_rng()\n",
    "    u = rng.uniform()\n",
    "    \n",
    "    for i in range(1, len(demand)+1):\n",
    "        if (demand[0:i].sum() < u) and (demand[0:i+1].sum() >= u):\n",
    "            d = i\n",
    "            \n",
    "    return d"
   ]
  },
  {
   "cell_type": "code",
   "execution_count": 4,
   "metadata": {},
   "outputs": [],
   "source": [
    "def stock_penalty(stock, stock_fine=20):\n",
    "    \"returns updated stock and stock penalty\"\n",
    "    if stock < 0:\n",
    "        stock = 0\n",
    "        stock_pen = stock_fine\n",
    "    else:\n",
    "        stock_pen = 0\n",
    "        \n",
    "    return stock, stock_pen"
   ]
  },
  {
   "cell_type": "code",
   "execution_count": 5,
   "metadata": {},
   "outputs": [],
   "source": [
    "def warehouse_penalty(stock, week, max_weeks, warehouse_fine=5):\n",
    "    \"returns warehouse penalty\"\n",
    "    if week >= max_weeks-1: # doesnt charge for storage on final week\n",
    "        warehouse_pen = 0 \n",
    "    else:\n",
    "        if stock > 0:\n",
    "            warehouse_pen = warehouse_fine\n",
    "        else:\n",
    "            warehouse_pen = 0\n",
    "        \n",
    "    return warehouse_pen"
   ]
  },
  {
   "cell_type": "code",
   "execution_count": 6,
   "metadata": {},
   "outputs": [],
   "source": [
    "def return_penalty(stock, week, max_weeks, return_fine=10):\n",
    "    \"returns return penalty\"\n",
    "    if week >= max_weeks-1:\n",
    "        return_pen = stock*return_fine\n",
    "    else:\n",
    "        return_pen = 0\n",
    "        \n",
    "    return return_pen"
   ]
  },
  {
   "cell_type": "code",
   "execution_count": 7,
   "metadata": {},
   "outputs": [],
   "source": [
    "def simulation(y, r, demand_dist, max_weeks=52):  \n",
    "    \n",
    "    # Initialising running totals\n",
    "    weekly_demand = np.zeros(max_weeks, dtype=int)\n",
    "    weekly_stock = np.zeros(max_weeks, dtype=int)\n",
    "    weekly_stock_pen = np.zeros(max_weeks, dtype=int)\n",
    "    weekly_warehouse_pen = np.zeros(max_weeks, dtype=int)\n",
    "    weekly_return_pen = np.zeros(max_weeks, dtype=int)\n",
    "    \n",
    "    # Initialise tracking variables\n",
    "    week = 0\n",
    "    stock = 0\n",
    "    \n",
    "    # update stock according to policy before opening week\n",
    "    if stock <= r:\n",
    "        stock += y\n",
    "    \n",
    "    for i in range(max_weeks):\n",
    "        \n",
    "        # system dynamics\n",
    "        demand = get_demand(demand_dist)\n",
    "        stock = stock - demand\n",
    "    \n",
    "        # calculate penalties\n",
    "        stock, stock_pen = stock_penalty(stock)\n",
    "        warehouse_pen = warehouse_penalty(stock, week, max_weeks)\n",
    "        return_pen = return_penalty(stock, week, max_weeks)\n",
    "    \n",
    "        # update running totals\n",
    "        weekly_demand[i] = demand\n",
    "        weekly_stock[i] = stock\n",
    "        weekly_stock_pen[i] = stock_pen\n",
    "        weekly_warehouse_pen[i] = warehouse_pen\n",
    "        weekly_return_pen[i] = return_pen\n",
    "        \n",
    "        # update stock according to policy (start of week stock)\n",
    "        if stock <= r:\n",
    "            stock += y\n",
    "        \n",
    "        # increment week\n",
    "        week += 1\n",
    "        \n",
    "    # total cost\n",
    "    total_cost = weekly_stock_pen.sum() + weekly_warehouse_pen.sum() + weekly_return_pen.sum()\n",
    "    \n",
    "    \n",
    "    return np.asarray([weekly_demand, weekly_stock, weekly_stock_pen, weekly_warehouse_pen,\n",
    "                       weekly_return_pen]), total_cost"
   ]
  },
  {
   "cell_type": "code",
   "execution_count": 8,
   "metadata": {},
   "outputs": [],
   "source": [
    "# Task 2"
   ]
  },
  {
   "cell_type": "code",
   "execution_count": 9,
   "metadata": {},
   "outputs": [],
   "source": [
    "# define policy\n",
    "y = 4 # stock update\n",
    "r = 4 # stock threshold\n",
    "\n",
    "# Demand probability distribution\n",
    "demand_dist = np.asarray([0.04, 0.09, 0.27, 0.40, 0.16, 0.02, 0.02])"
   ]
  },
  {
   "cell_type": "code",
   "execution_count": 10,
   "metadata": {},
   "outputs": [],
   "source": [
    "# running simulations of above policy\n",
    "no_sims_t2 = 500\n",
    "sim_cost_t2 = np.zeros(no_sims_t2)\n",
    "sim_results_t2 = np.zeros((no_sims_t2, 5, 52))\n",
    "for i in range(no_sims_t2):\n",
    "    sim_results_t2[i], sim_cost_t2[i] = simulation(y, r, demand_dist)"
   ]
  },
  {
   "cell_type": "code",
   "execution_count": 11,
   "metadata": {},
   "outputs": [
    {
     "name": "stdout",
     "output_type": "stream",
     "text": [
      "294.9\n",
      "354.39\n",
      "18.82524900233726\n",
      "250.0\n",
      "365.0\n"
     ]
    }
   ],
   "source": [
    "# computing statistics of total cost distribution\n",
    "mean_t2 = sim_cost_t2.mean()\n",
    "var_t2 = sim_cost_t2.var()\n",
    "std_t2 = sim_cost_t2.std()\n",
    "print(mean_t2)\n",
    "print(var_t2)\n",
    "print(std_t2)\n",
    "print(sim_cost_t2.min())\n",
    "print(sim_cost_t2.max())"
   ]
  },
  {
   "cell_type": "code",
   "execution_count": 12,
   "metadata": {},
   "outputs": [
    {
     "data": {
      "text/plain": [
       "(array([ 20.,  40.,  61., 153., 114.,  58.,  41.,   7.,   4.,   2.]),\n",
       " array([250. , 261.5, 273. , 284.5, 296. , 307.5, 319. , 330.5, 342. ,\n",
       "        353.5, 365. ]),\n",
       " <a list of 10 Patch objects>)"
      ]
     },
     "execution_count": 12,
     "metadata": {},
     "output_type": "execute_result"
    },
    {
     "data": {
      "image/png": "[encoded data removed]",
      "text/plain": [
       "<Figure size 432x288 with 1 Axes>"
      ]
     },
     "metadata": {
      "needs_background": "light"
     },
     "output_type": "display_data"
    }
   ],
   "source": [
    "# Plotting Histogram\n",
    "plt.figure(figsize=(6,4))\n",
    "plt.hist(sim_cost_t2, bins=10, range=(sim_cost_t2.min(), sim_cost_t2.max()))\n",
    "#plt.savefig('Task2.jpg')\n",
    "#plt.show()"
   ]
  },
  {
   "cell_type": "code",
   "execution_count": 13,
   "metadata": {},
   "outputs": [],
   "source": [
    "# Task 3"
   ]
  },
  {
   "cell_type": "code",
   "execution_count": 36,
   "metadata": {},
   "outputs": [],
   "source": [
    "# running simulations for a range of policies\n",
    "mean_cost_t3 = []\n",
    "std_cost_t3 = []\n",
    "no_sims_t3 = 500\n",
    "\n",
    "# iterating through policies\n",
    "for r in range(1, 7):\n",
    "    for y in range(1, 7):\n",
    "        \n",
    "        # computing total cost for each week under a single policy\n",
    "        sim_cost_t3 = np.zeros(no_sims_t3)\n",
    "        sim_results_t3 = np.zeros((no_sims_t3, 5, 52))\n",
    "        for i in range(no_sims_t3):\n",
    "            sim_results_t3[i], sim_cost_t3[i] = simulation(y, r, demand_dist)\n",
    "            \n",
    "        # computing statistics of total cost distribution\n",
    "        mean_t3 = sim_cost_t3.mean()\n",
    "        std_t3 = sim_cost_t3.std()\n",
    "        mean_cost_t3.append([mean_t3, r, y])\n",
    "        std_cost_t3.append([std_t3, r, y])\n",
    "\n",
    "\n",
    "mean_cost_t3 = np.asarray(mean_cost_t3) # array contains mean cost and associated r and y values\n",
    "std_cost_t3 = np.asarray(std_cost_t3) # array contains variance of cost and associated r and y values"
   ]
  },
  {
   "cell_type": "code",
   "execution_count": 37,
   "metadata": {},
   "outputs": [],
   "source": [
    "# running simulations of optimal policy\n",
    "no_sims_t4 = 500\n",
    "sim_cost_t4 = np.zeros(no_sims_t4)\n",
    "sim_results_t4 = np.zeros((no_sims_t4, 5, 52))\n",
    "for i in range(no_sims_t4):\n",
    "    sim_results_t4[i], sim_cost_t4[i] = simulation(4, 3, demand_dist)"
   ]
  },
  {
   "cell_type": "code",
   "execution_count": 38,
   "metadata": {},
   "outputs": [
    {
     "name": "stdout",
     "output_type": "stream",
     "text": [
      "281.18\n",
      "472.95759999999996\n",
      "21.74758837204714\n",
      "215.0\n",
      "350.0\n"
     ]
    }
   ],
   "source": [
    "# computing statistics of total cost distribution\n",
    "mean_t4 = sim_cost_t4.mean()\n",
    "var_t4 = sim_cost_t4.var()\n",
    "std_t4 = sim_cost_t4.std()\n",
    "print(mean_t4)\n",
    "print(var_t4)\n",
    "print(std_t4)\n",
    "print(sim_cost_t4.min())\n",
    "print(sim_cost_t4.max())"
   ]
  },
  {
   "cell_type": "code",
   "execution_count": 39,
   "metadata": {},
   "outputs": [
    {
     "data": {
      "text/plain": [
       "(array([  6.,  28., 105., 126., 267., 236., 116.,  86.,  22.,   8.]),\n",
       " array([215. , 228.5, 242. , 255.5, 269. , 282.5, 296. , 309.5, 323. ,\n",
       "        336.5, 350. ]),\n",
       " <a list of 10 Patch objects>)"
      ]
     },
     "execution_count": 39,
     "metadata": {},
     "output_type": "execute_result"
    },
    {
     "data": {
      "image/png": "[encoded data removed]",
      "text/plain": [
       "<Figure size 432x288 with 1 Axes>"
      ]
     },
     "metadata": {
      "needs_background": "light"
     },
     "output_type": "display_data"
    }
   ],
   "source": [
    "# Plotting Histogram\n",
    "plt.figure(figsize=(6,4))\n",
    "plt.hist(sim_cost_t4, bins=10, range=(sim_cost_t4.min(), sim_cost_t4.max()))\n",
    "#plt.savefig('Task4.jpg')\n",
    "#plt.show()"
   ]
  },
  {
   "cell_type": "code",
   "execution_count": 40,
   "metadata": {},
   "outputs": [
    {
     "name": "stdout",
     "output_type": "stream",
     "text": [
      "282.465\n",
      "15\n",
      "[282.465   3.      4.   ]\n",
      "[21.94308034  3.          4.        ]\n"
     ]
    }
   ],
   "source": [
    "# finding optimal parameters\n",
    "print(mean_cost_t3[:,0].min())\n",
    "print(mean_cost_t3[:,0].argmin())\n",
    "print(mean_cost_t3[mean_cost_t3[:,0].argmin()])\n",
    "print(std_cost_t3[mean_cost_t3[:,0].argmin()])"
   ]
  },
  {
   "cell_type": "code",
   "execution_count": 41,
   "metadata": {},
   "outputs": [
    {
     "data": {
      "text/plain": [
       "<matplotlib.legend.Legend at 0x209c6976508>"
      ]
     },
     "execution_count": 41,
     "metadata": {},
     "output_type": "execute_result"
    },
    {
     "data": {
      "image/png": "[encoded data removed]",
      "text/plain": [
       "<Figure size 432x288 with 2 Axes>"
      ]
     },
     "metadata": {
      "needs_background": "light"
     },
     "output_type": "display_data"
    }
   ],
   "source": [
    "# filtering optimal value for plot\n",
    "opt_arg = mean_cost_t3[:,0].argmin()\n",
    "opt = mean_cost_t3[opt_arg]\n",
    "mean_opt_rem = np.delete(mean_cost_t3, opt_arg, 0)\n",
    "\n",
    "# scatter plot of mean cost for optimal policies\n",
    "fig = plt.figure(figsize=(6,4))\n",
    "ax = fig.add_subplot(111, projection='3d')\n",
    "ax.view_init(azim=60)\n",
    "ax.set_xlabel('$r$')\n",
    "ax.set_ylabel('$y$')\n",
    "ax.set_zlabel('Mean cost')\n",
    "p = ax.scatter(mean_opt_rem[:,1], mean_opt_rem[:,2], mean_opt_rem[:,0], c=mean_opt_rem[:,0], cmap=plt.cm.plasma, s=70)\n",
    "ax.scatter(opt[1], opt[2], opt[0], marker='*', color='red', s=100, \n",
    "           label='Optimal policy')\n",
    "\n",
    "fig.colorbar(p, ax=ax)\n",
    "plt.legend()\n",
    "#plt.savefig('Task3.jpg')\n",
    "#plt.show()"
   ]
  },
  {
   "cell_type": "code",
   "execution_count": 42,
   "metadata": {},
   "outputs": [
    {
     "name": "stdout",
     "output_type": "stream",
     "text": [
      "[21.94308034  3.          4.        ]\n",
      "16.63144536713511\n",
      "86.18148525060357\n"
     ]
    }
   ],
   "source": [
    "# looking at the variance of optimal policy\n",
    "opt_std = std_cost_t3[opt_arg] # std of optimal policy\n",
    "print(opt_std)\n",
    "print(std_cost_t3[:,0].min()) # minimum variance out of all policies\n",
    "print(std_cost_t3[:,0].max()) # maximum variance out of all policies"
   ]
  },
  {
   "cell_type": "code",
   "execution_count": 43,
   "metadata": {},
   "outputs": [],
   "source": [
    "# Task 4- # how confident are you about your conclusion in task 3?"
   ]
  },
  {
   "cell_type": "code",
   "execution_count": 44,
   "metadata": {},
   "outputs": [
    {
     "name": "stdout",
     "output_type": "stream",
     "text": [
      "minimum cost [282.465   3.      4.   ] \n",
      "\n",
      "Lower bound of 99% CI of min cost 280.3832966169504\n",
      "Upper bound of 99% CI of min cost 284.54670338304953 \n",
      "\n",
      "Lower bound of 95% CI of min cost 281.0771977446336\n",
      "Upper bound of 95% CI of min cost 283.8528022553663\n"
     ]
    }
   ],
   "source": [
    "print(\"minimum cost\", opt,\"\\n\") \n",
    "\n",
    "# 99% CI of TC*(y=3,r=4)\n",
    "alpha = .99\n",
    "z = 3\n",
    "LB = opt[0] - z*opt_std[0]/(no_sims_t3**0.5)\n",
    "UB = opt[0] + z*opt_std[0]/(no_sims_t3**0.5)\n",
    "print(\"Lower bound of 99% CI of min cost\", LB)\n",
    "print(\"Upper bound of 99% CI of min cost\", UB, \"\\n\")\n",
    "\n",
    "# 95% CI of TC*(y=3,r=4)\n",
    "alpha = .95\n",
    "z = 2\n",
    "LB = opt[0] - z*opt_std[0]/(no_sims_t3**0.5)\n",
    "UB = opt[0] + z*opt_std[0]/(no_sims_t3**0.5)\n",
    "print(\"Lower bound of 95% CI of min cost\", LB)\n",
    "print(\"Upper bound of 95% CI of min cost\", UB)"
   ]
  },
  {
   "cell_type": "code",
   "execution_count": 46,
   "metadata": {},
   "outputs": [],
   "source": [
    "# putting mean_cost_t3 into descending order\n",
    "mean_cost_t3_sorted = mean_cost_t3[np.lexsort(np.fliplr(mean_cost_t3).T)]"
   ]
  },
  {
   "cell_type": "code",
   "execution_count": 24,
   "metadata": {},
   "outputs": [
    {
     "name": "stdout",
     "output_type": "stream",
     "text": [
      "minimum cost [283.3   3.    4. ] \n",
      "\n",
      "Lower bound of 99% CI of min cost 279.25777657717936\n",
      "Upper bound of 99% CI of min cost 287.34222342282067 \n",
      "\n",
      "Lower bound of 95% CI of min cost 280.60518438478624\n",
      "Upper bound of 95% CI of min cost 285.9948156152138\n"
     ]
    }
   ],
   "source": [
    "# checking second best system for overlap\n",
    "print(\"minimum cost\", mean_cost_t3_sorted[1],\"\\n\")\n",
    "\n",
    "# 99% CI of TC*(y=3,r=4)\n",
    "alpha = .99\n",
    "z = 3\n",
    "LB = mean_cost_t3_sorted[1,0] - z*std_cost_t3[20,0]/(no_sims_t3**0.5)\n",
    "UB = mean_cost_t3_sorted[1,0] + z*std_cost_t3[20,0]/(no_sims_t3**0.5)\n",
    "print(\"Lower bound of 99% CI of min cost\", LB)\n",
    "print(\"Upper bound of 99% CI of min cost\", UB, \"\\n\")\n",
    "\n",
    "# 95% CI of TC*(y=3,r=4)\n",
    "alpha = .95\n",
    "z = 2\n",
    "LB = mean_cost_t3_sorted[1,0] - z*std_cost_t3[20,0]/(no_sims_t3**0.5)\n",
    "UB = mean_cost_t3_sorted[1,0] + z*std_cost_t3[20,0]/(no_sims_t3**0.5)\n",
    "print(\"Lower bound of 95% CI of min cost\", LB)\n",
    "print(\"Upper bound of 95% CI of min cost\", UB)"
   ]
  },
  {
   "cell_type": "code",
   "execution_count": 25,
   "metadata": {},
   "outputs": [
    {
     "name": "stdout",
     "output_type": "stream",
     "text": [
      "minimum cost [286.78   3.     3.  ] \n",
      "\n",
      "Lower bound of 99% CI of min cost 283.9096724925542\n",
      "Upper bound of 99% CI of min cost 289.65032750744575 \n",
      "\n",
      "Lower bound of 95% CI of min cost 284.8664483283694\n",
      "Upper bound of 95% CI of min cost 288.69355167163053\n"
     ]
    }
   ],
   "source": [
    "# checking third best system for overlap\n",
    "print(\"minimum cost\", mean_cost_t3_sorted[2],\"\\n\")\n",
    "\n",
    "# 99% CI of TC*(y=3,r=4)\n",
    "alpha = .99\n",
    "z = 3\n",
    "LB = mean_cost_t3_sorted[2,0] - z*std_cost_t3[15,0]/(no_sims_t3**0.5)\n",
    "UB = mean_cost_t3_sorted[2,0] + z*std_cost_t3[15,0]/(no_sims_t3**0.5)\n",
    "print(\"Lower bound of 99% CI of min cost\", LB)\n",
    "print(\"Upper bound of 99% CI of min cost\", UB, \"\\n\")\n",
    "\n",
    "# 95% CI of TC*(y=3,r=4)\n",
    "alpha = .95\n",
    "z = 2\n",
    "LB = mean_cost_t3_sorted[2,0] - z*std_cost_t3[15,0]/(no_sims_t3**0.5)\n",
    "UB = mean_cost_t3_sorted[2,0] + z*std_cost_t3[15,0]/(no_sims_t3**0.5)\n",
    "print(\"Lower bound of 95% CI of min cost\", LB)\n",
    "print(\"Upper bound of 95% CI of min cost\", UB)"
   ]
  },
  {
   "cell_type": "code",
   "execution_count": null,
   "metadata": {},
   "outputs": [],
   "source": []
  }
 ],
 "metadata": {
  "kernelspec": {
   "display_name": "Python 3",
   "language": "python",
   "name": "python3"
  },
  "language_info": {
   "codemirror_mode": {
    "name": "ipython",
    "version": 3
   },
   "file_extension": ".py",
   "mimetype": "text/x-python",
   "name": "python",
   "nbconvert_exporter": "python",
   "pygments_lexer": "ipython3",
   "version": "3.7.4"
  }
 },
 "nbformat": 4,
 "nbformat_minor": 2
}
